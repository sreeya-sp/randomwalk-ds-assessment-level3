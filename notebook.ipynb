{
 "cells": [
  {
   "cell_type": "code",
   "execution_count": 1,
   "id": "0bacda50",
   "metadata": {},
   "outputs": [],
   "source": [
    "import pandas as pd\n",
    "import numpy as np\n",
    "import matplotlib.pyplot as plt"
   ]
  },
  {
   "cell_type": "code",
   "execution_count": 2,
   "id": "88bfbc32",
   "metadata": {},
   "outputs": [],
   "source": [
    "import warnings\n",
    "warnings.filterwarnings(\"ignore\")"
   ]
  },
  {
   "cell_type": "code",
   "execution_count": 6,
   "id": "bfcd13b6",
   "metadata": {},
   "outputs": [],
   "source": [
    "df = pd.read_csv('books.csv')\n",
    "df1 = pd.read_csv('book_tags.csv')\n",
    "df2 = pd.read_csv('ratings.csv')"
   ]
  },
  {
   "cell_type": "code",
   "execution_count": 4,
   "id": "ec16e400",
   "metadata": {},
   "outputs": [
    {
     "data": {
      "text/html": [
       "<div>\n",
       "<style scoped>\n",
       "    .dataframe tbody tr th:only-of-type {\n",
       "        vertical-align: middle;\n",
       "    }\n",
       "\n",
       "    .dataframe tbody tr th {\n",
       "        vertical-align: top;\n",
       "    }\n",
       "\n",
       "    .dataframe thead th {\n",
       "        text-align: right;\n",
       "    }\n",
       "</style>\n",
       "<table border=\"1\" class=\"dataframe\">\n",
       "  <thead>\n",
       "    <tr style=\"text-align: right;\">\n",
       "      <th></th>\n",
       "      <th>book_id</th>\n",
       "      <th>goodreads_book_id</th>\n",
       "      <th>best_book_id</th>\n",
       "      <th>work_id</th>\n",
       "      <th>books_count</th>\n",
       "      <th>isbn</th>\n",
       "      <th>isbn13</th>\n",
       "      <th>authors</th>\n",
       "      <th>original_publication_year</th>\n",
       "      <th>original_title</th>\n",
       "      <th>...</th>\n",
       "      <th>work_ratings_count</th>\n",
       "      <th>work_text_reviews_count</th>\n",
       "      <th>ratings_1</th>\n",
       "      <th>ratings_2</th>\n",
       "      <th>ratings_3</th>\n",
       "      <th>ratings_4</th>\n",
       "      <th>ratings_5</th>\n",
       "      <th>image_url</th>\n",
       "      <th>small_image_url</th>\n",
       "      <th>NonEnglish</th>\n",
       "    </tr>\n",
       "  </thead>\n",
       "  <tbody>\n",
       "    <tr>\n",
       "      <th>0</th>\n",
       "      <td>15</td>\n",
       "      <td>48855</td>\n",
       "      <td>48855</td>\n",
       "      <td>3532896</td>\n",
       "      <td>710</td>\n",
       "      <td>553296981</td>\n",
       "      <td>9.780553e+12</td>\n",
       "      <td>Anne Frank, Eleanor Roosevelt, B.M. Mooyaart-D...</td>\n",
       "      <td>1947.0</td>\n",
       "      <td>Het Achterhuis: Dagboekbrieven 14 juni 1942 - ...</td>\n",
       "      <td>...</td>\n",
       "      <td>2024493</td>\n",
       "      <td>20825</td>\n",
       "      <td>45225</td>\n",
       "      <td>91270</td>\n",
       "      <td>355756</td>\n",
       "      <td>656870</td>\n",
       "      <td>875372</td>\n",
       "      <td>https://images.gr-assets.com/books/1358276407m...</td>\n",
       "      <td>https://images.gr-assets.com/books/1358276407s...</td>\n",
       "      <td>0</td>\n",
       "    </tr>\n",
       "    <tr>\n",
       "      <th>1</th>\n",
       "      <td>40</td>\n",
       "      <td>19501</td>\n",
       "      <td>19501</td>\n",
       "      <td>3352398</td>\n",
       "      <td>185</td>\n",
       "      <td>143038419</td>\n",
       "      <td>9.780143e+12</td>\n",
       "      <td>Elizabeth Gilbert</td>\n",
       "      <td>2006.0</td>\n",
       "      <td>Eat, pray, love: one woman's search for everyt...</td>\n",
       "      <td>...</td>\n",
       "      <td>1206597</td>\n",
       "      <td>49714</td>\n",
       "      <td>100373</td>\n",
       "      <td>149549</td>\n",
       "      <td>310212</td>\n",
       "      <td>332191</td>\n",
       "      <td>314272</td>\n",
       "      <td>https://images.gr-assets.com/books/1503066414m...</td>\n",
       "      <td>https://images.gr-assets.com/books/1503066414s...</td>\n",
       "      <td>0</td>\n",
       "    </tr>\n",
       "    <tr>\n",
       "      <th>2</th>\n",
       "      <td>81</td>\n",
       "      <td>7445</td>\n",
       "      <td>7445</td>\n",
       "      <td>2944133</td>\n",
       "      <td>92</td>\n",
       "      <td>074324754X</td>\n",
       "      <td>9.780743e+12</td>\n",
       "      <td>Jeannette Walls</td>\n",
       "      <td>2005.0</td>\n",
       "      <td>The Glass Castle</td>\n",
       "      <td>...</td>\n",
       "      <td>637866</td>\n",
       "      <td>40777</td>\n",
       "      <td>7901</td>\n",
       "      <td>18922</td>\n",
       "      <td>85191</td>\n",
       "      <td>227750</td>\n",
       "      <td>298102</td>\n",
       "      <td>https://images.gr-assets.com/books/1400930557m...</td>\n",
       "      <td>https://images.gr-assets.com/books/1400930557s...</td>\n",
       "      <td>0</td>\n",
       "    </tr>\n",
       "    <tr>\n",
       "      <th>3</th>\n",
       "      <td>82</td>\n",
       "      <td>1845</td>\n",
       "      <td>1845</td>\n",
       "      <td>3284484</td>\n",
       "      <td>108</td>\n",
       "      <td>385486804</td>\n",
       "      <td>9.780385e+12</td>\n",
       "      <td>Jon Krakauer</td>\n",
       "      <td>1996.0</td>\n",
       "      <td>Into the Wild</td>\n",
       "      <td>...</td>\n",
       "      <td>665377</td>\n",
       "      <td>17299</td>\n",
       "      <td>19229</td>\n",
       "      <td>35567</td>\n",
       "      <td>135199</td>\n",
       "      <td>248287</td>\n",
       "      <td>227095</td>\n",
       "      <td>https://images.gr-assets.com/books/1403173986m...</td>\n",
       "      <td>https://images.gr-assets.com/books/1403173986s...</td>\n",
       "      <td>0</td>\n",
       "    </tr>\n",
       "    <tr>\n",
       "      <th>4</th>\n",
       "      <td>87</td>\n",
       "      <td>1617</td>\n",
       "      <td>1617</td>\n",
       "      <td>265616</td>\n",
       "      <td>109</td>\n",
       "      <td>374500010</td>\n",
       "      <td>9.780375e+12</td>\n",
       "      <td>Elie Wiesel, Marion Wiesel</td>\n",
       "      <td>1958.0</td>\n",
       "      <td>Un di Velt Hot Geshvign</td>\n",
       "      <td>...</td>\n",
       "      <td>707879</td>\n",
       "      <td>22001</td>\n",
       "      <td>7761</td>\n",
       "      <td>18539</td>\n",
       "      <td>90575</td>\n",
       "      <td>230227</td>\n",
       "      <td>360777</td>\n",
       "      <td>https://images.gr-assets.com/books/1473495285m...</td>\n",
       "      <td>https://images.gr-assets.com/books/1473495285s...</td>\n",
       "      <td>0</td>\n",
       "    </tr>\n",
       "  </tbody>\n",
       "</table>\n",
       "<p>5 rows × 24 columns</p>\n",
       "</div>"
      ],
      "text/plain": [
       "   book_id  goodreads_book_id  best_book_id  work_id  books_count        isbn  \\\n",
       "0       15              48855         48855  3532896          710   553296981   \n",
       "1       40              19501         19501  3352398          185   143038419   \n",
       "2       81               7445          7445  2944133           92  074324754X   \n",
       "3       82               1845          1845  3284484          108   385486804   \n",
       "4       87               1617          1617   265616          109   374500010   \n",
       "\n",
       "         isbn13                                            authors  \\\n",
       "0  9.780553e+12  Anne Frank, Eleanor Roosevelt, B.M. Mooyaart-D...   \n",
       "1  9.780143e+12                                  Elizabeth Gilbert   \n",
       "2  9.780743e+12                                    Jeannette Walls   \n",
       "3  9.780385e+12                                       Jon Krakauer   \n",
       "4  9.780375e+12                         Elie Wiesel, Marion Wiesel   \n",
       "\n",
       "   original_publication_year  \\\n",
       "0                     1947.0   \n",
       "1                     2006.0   \n",
       "2                     2005.0   \n",
       "3                     1996.0   \n",
       "4                     1958.0   \n",
       "\n",
       "                                      original_title  ... work_ratings_count  \\\n",
       "0  Het Achterhuis: Dagboekbrieven 14 juni 1942 - ...  ...            2024493   \n",
       "1  Eat, pray, love: one woman's search for everyt...  ...            1206597   \n",
       "2                                   The Glass Castle  ...             637866   \n",
       "3                                      Into the Wild  ...             665377   \n",
       "4                            Un di Velt Hot Geshvign  ...             707879   \n",
       "\n",
       "  work_text_reviews_count  ratings_1  ratings_2  ratings_3  ratings_4  \\\n",
       "0                   20825      45225      91270     355756     656870   \n",
       "1                   49714     100373     149549     310212     332191   \n",
       "2                   40777       7901      18922      85191     227750   \n",
       "3                   17299      19229      35567     135199     248287   \n",
       "4                   22001       7761      18539      90575     230227   \n",
       "\n",
       "   ratings_5                                          image_url  \\\n",
       "0     875372  https://images.gr-assets.com/books/1358276407m...   \n",
       "1     314272  https://images.gr-assets.com/books/1503066414m...   \n",
       "2     298102  https://images.gr-assets.com/books/1400930557m...   \n",
       "3     227095  https://images.gr-assets.com/books/1403173986m...   \n",
       "4     360777  https://images.gr-assets.com/books/1473495285m...   \n",
       "\n",
       "                                     small_image_url  NonEnglish  \n",
       "0  https://images.gr-assets.com/books/1358276407s...           0  \n",
       "1  https://images.gr-assets.com/books/1503066414s...           0  \n",
       "2  https://images.gr-assets.com/books/1400930557s...           0  \n",
       "3  https://images.gr-assets.com/books/1403173986s...           0  \n",
       "4  https://images.gr-assets.com/books/1473495285s...           0  \n",
       "\n",
       "[5 rows x 24 columns]"
      ]
     },
     "execution_count": 4,
     "metadata": {},
     "output_type": "execute_result"
    }
   ],
   "source": [
    "df.head()"
   ]
  },
  {
   "cell_type": "code",
   "execution_count": 43,
   "id": "51905f0c",
   "metadata": {},
   "outputs": [
    {
     "data": {
      "text/plain": [
       "['book_id',\n",
       " 'goodreads_book_id',\n",
       " 'best_book_id',\n",
       " 'work_id',\n",
       " 'books_count',\n",
       " 'isbn',\n",
       " 'isbn13',\n",
       " 'authors',\n",
       " 'original_publication_year',\n",
       " 'original_title',\n",
       " 'title',\n",
       " 'language_code',\n",
       " 'average_rating',\n",
       " 'ratings_count',\n",
       " 'work_ratings_count',\n",
       " 'work_text_reviews_count',\n",
       " 'ratings_1',\n",
       " 'ratings_2',\n",
       " 'ratings_3',\n",
       " 'ratings_4',\n",
       " 'ratings_5',\n",
       " 'image_url',\n",
       " 'small_image_url',\n",
       " 'NonEnglish']"
      ]
     },
     "execution_count": 43,
     "metadata": {},
     "output_type": "execute_result"
    }
   ],
   "source": [
    "column_names = df.columns.tolist()\n",
    "column_names"
   ]
  },
  {
   "cell_type": "code",
   "execution_count": 14,
   "id": "a494eb17",
   "metadata": {},
   "outputs": [
    {
     "data": {
      "text/html": [
       "<div>\n",
       "<style scoped>\n",
       "    .dataframe tbody tr th:only-of-type {\n",
       "        vertical-align: middle;\n",
       "    }\n",
       "\n",
       "    .dataframe tbody tr th {\n",
       "        vertical-align: top;\n",
       "    }\n",
       "\n",
       "    .dataframe thead th {\n",
       "        text-align: right;\n",
       "    }\n",
       "</style>\n",
       "<table border=\"1\" class=\"dataframe\">\n",
       "  <thead>\n",
       "    <tr style=\"text-align: right;\">\n",
       "      <th></th>\n",
       "      <th>goodreads_book_id</th>\n",
       "      <th>tag_id</th>\n",
       "      <th>count</th>\n",
       "    </tr>\n",
       "  </thead>\n",
       "  <tbody>\n",
       "    <tr>\n",
       "      <th>0</th>\n",
       "      <td>386</td>\n",
       "      <td>30574</td>\n",
       "      <td>565</td>\n",
       "    </tr>\n",
       "    <tr>\n",
       "      <th>1</th>\n",
       "      <td>386</td>\n",
       "      <td>19733</td>\n",
       "      <td>280</td>\n",
       "    </tr>\n",
       "    <tr>\n",
       "      <th>2</th>\n",
       "      <td>386</td>\n",
       "      <td>21689</td>\n",
       "      <td>182</td>\n",
       "    </tr>\n",
       "    <tr>\n",
       "      <th>3</th>\n",
       "      <td>386</td>\n",
       "      <td>21773</td>\n",
       "      <td>99</td>\n",
       "    </tr>\n",
       "    <tr>\n",
       "      <th>4</th>\n",
       "      <td>386</td>\n",
       "      <td>19742</td>\n",
       "      <td>78</td>\n",
       "    </tr>\n",
       "  </tbody>\n",
       "</table>\n",
       "</div>"
      ],
      "text/plain": [
       "   goodreads_book_id  tag_id  count\n",
       "0                386   30574    565\n",
       "1                386   19733    280\n",
       "2                386   21689    182\n",
       "3                386   21773     99\n",
       "4                386   19742     78"
      ]
     },
     "execution_count": 14,
     "metadata": {},
     "output_type": "execute_result"
    }
   ],
   "source": [
    "df1.head()"
   ]
  },
  {
   "cell_type": "code",
   "execution_count": 28,
   "id": "28abcf48",
   "metadata": {},
   "outputs": [
    {
     "data": {
      "text/html": [
       "<div>\n",
       "<style scoped>\n",
       "    .dataframe tbody tr th:only-of-type {\n",
       "        vertical-align: middle;\n",
       "    }\n",
       "\n",
       "    .dataframe tbody tr th {\n",
       "        vertical-align: top;\n",
       "    }\n",
       "\n",
       "    .dataframe thead th {\n",
       "        text-align: right;\n",
       "    }\n",
       "</style>\n",
       "<table border=\"1\" class=\"dataframe\">\n",
       "  <thead>\n",
       "    <tr style=\"text-align: right;\">\n",
       "      <th></th>\n",
       "      <th>user_id</th>\n",
       "      <th>book_id</th>\n",
       "      <th>rating</th>\n",
       "    </tr>\n",
       "  </thead>\n",
       "  <tbody>\n",
       "    <tr>\n",
       "      <th>0</th>\n",
       "      <td>8</td>\n",
       "      <td>2584</td>\n",
       "      <td>5</td>\n",
       "    </tr>\n",
       "    <tr>\n",
       "      <th>1</th>\n",
       "      <td>4</td>\n",
       "      <td>87</td>\n",
       "      <td>5</td>\n",
       "    </tr>\n",
       "    <tr>\n",
       "      <th>2</th>\n",
       "      <td>4</td>\n",
       "      <td>495</td>\n",
       "      <td>4</td>\n",
       "    </tr>\n",
       "    <tr>\n",
       "      <th>3</th>\n",
       "      <td>9</td>\n",
       "      <td>344</td>\n",
       "      <td>4</td>\n",
       "    </tr>\n",
       "    <tr>\n",
       "      <th>4</th>\n",
       "      <td>9</td>\n",
       "      <td>372</td>\n",
       "      <td>4</td>\n",
       "    </tr>\n",
       "  </tbody>\n",
       "</table>\n",
       "</div>"
      ],
      "text/plain": [
       "   user_id  book_id  rating\n",
       "0        8     2584       5\n",
       "1        4       87       5\n",
       "2        4      495       4\n",
       "3        9      344       4\n",
       "4        9      372       4"
      ]
     },
     "execution_count": 28,
     "metadata": {},
     "output_type": "execute_result"
    }
   ],
   "source": [
    "df2.head()"
   ]
  },
  {
   "cell_type": "code",
   "execution_count": 9,
   "id": "0f723d78",
   "metadata": {},
   "outputs": [
    {
     "data": {
      "text/plain": [
       "36"
      ]
     },
     "execution_count": 9,
     "metadata": {},
     "output_type": "execute_result"
    }
   ],
   "source": [
    "df['original_title'].isnull().sum()"
   ]
  },
  {
   "cell_type": "code",
   "execution_count": 12,
   "id": "c3ab8913",
   "metadata": {},
   "outputs": [],
   "source": [
    "data = df.dropna(subset=['original_title'])"
   ]
  },
  {
   "cell_type": "code",
   "execution_count": 17,
   "id": "9f0bd8b7",
   "metadata": {},
   "outputs": [],
   "source": [
    "data1 = df1[df1['goodreads_book_id'].isin(data['book_id'])]\n",
    "data2 = df2[df2['book_id'].isin(data['book_id'])]"
   ]
  },
  {
   "cell_type": "code",
   "execution_count": 18,
   "id": "02da1e19",
   "metadata": {},
   "outputs": [
    {
     "data": {
      "text/plain": [
       "363"
      ]
     },
     "execution_count": 18,
     "metadata": {},
     "output_type": "execute_result"
    }
   ],
   "source": [
    "unique_books = data['book_id'].nunique()\n",
    "unique_books"
   ]
  },
  {
   "cell_type": "code",
   "execution_count": 21,
   "id": "e632403a",
   "metadata": {},
   "outputs": [
    {
     "data": {
      "text/plain": [
       "40573"
      ]
     },
     "execution_count": 21,
     "metadata": {},
     "output_type": "execute_result"
    }
   ],
   "source": [
    "data2['user_id'].nunique()"
   ]
  },
  {
   "cell_type": "code",
   "execution_count": 26,
   "id": "4c28248f",
   "metadata": {},
   "outputs": [
    {
     "data": {
      "text/plain": [
       "100"
      ]
     },
     "execution_count": 26,
     "metadata": {},
     "output_type": "execute_result"
    }
   ],
   "source": [
    "data1['tag_id'].nunique()"
   ]
  },
  {
   "cell_type": "code",
   "execution_count": 40,
   "id": "3f541ab7",
   "metadata": {},
   "outputs": [],
   "source": [
    "vc = data1['tag_id'].value_counts()"
   ]
  },
  {
   "cell_type": "code",
   "execution_count": 41,
   "id": "21a5ba6b",
   "metadata": {},
   "outputs": [
    {
     "data": {
      "text/plain": [
       "30574    1\n",
       "7805     1\n",
       "18367    1\n",
       "10644    1\n",
       "29452    1\n",
       "        ..\n",
       "11590    1\n",
       "22743    1\n",
       "5207     1\n",
       "19961    1\n",
       "22011    1\n",
       "Name: tag_id, Length: 100, dtype: int64"
      ]
     },
     "execution_count": 41,
     "metadata": {},
     "output_type": "execute_result"
    }
   ],
   "source": [
    "max_vc = vc.max()\n",
    "most_frequent_tags = vc[vc == max_vc]\n",
    "most_frequent_tags"
   ]
  },
  {
   "cell_type": "code",
   "execution_count": 42,
   "id": "fda99665",
   "metadata": {},
   "outputs": [
    {
     "data": {
      "text/plain": [
       "30574"
      ]
     },
     "execution_count": 42,
     "metadata": {},
     "output_type": "execute_result"
    }
   ],
   "source": [
    "tag_id_lv = most_frequent_tags.idxmin()\n",
    "tag_id_lv"
   ]
  },
  {
   "cell_type": "code",
   "execution_count": null,
   "id": "fef5a950",
   "metadata": {},
   "outputs": [],
   "source": []
  },
  {
   "cell_type": "code",
   "execution_count": null,
   "id": "415e3eb9",
   "metadata": {},
   "outputs": [],
   "source": []
  }
 ],
 "metadata": {
  "kernelspec": {
   "display_name": "Python 3 (ipykernel)",
   "language": "python",
   "name": "python3"
  },
  "language_info": {
   "codemirror_mode": {
    "name": "ipython",
    "version": 3
   },
   "file_extension": ".py",
   "mimetype": "text/x-python",
   "name": "python",
   "nbconvert_exporter": "python",
   "pygments_lexer": "ipython3",
   "version": "3.9.13"
  }
 },
 "nbformat": 4,
 "nbformat_minor": 5
}
